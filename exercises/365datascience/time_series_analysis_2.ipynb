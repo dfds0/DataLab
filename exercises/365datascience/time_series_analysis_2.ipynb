{
  "nbformat": 4,
  "nbformat_minor": 0,
  "metadata": {
    "kernelspec": {
      "display_name": "Python 3",
      "language": "python",
      "name": "python3"
    },
    "language_info": {
      "codemirror_mode": {
        "name": "ipython",
        "version": 3
      },
      "file_extension": ".py",
      "mimetype": "text/x-python",
      "name": "python",
      "nbconvert_exporter": "python",
      "pygments_lexer": "ipython3",
      "version": "3.6.7"
    },
    "colab": {
      "name": "time_series_analysis_2.ipynb",
      "provenance": [],
      "toc_visible": true,
      "include_colab_link": true
    }
  },
  "cells": [
    {
      "cell_type": "markdown",
      "metadata": {
        "id": "view-in-github",
        "colab_type": "text"
      },
      "source": [
        "<a href=\"https://colab.research.google.com/github/udfds/DataLab/blob/master/exercises/365datascience/time_series_analysis_2.ipynb\" target=\"_parent\"><img src=\"https://colab.research.google.com/assets/colab-badge.svg\" alt=\"Open In Colab\"/></a>"
      ]
    },
    {
      "cell_type": "markdown",
      "metadata": {
        "id": "JU_-qXSQmkGR",
        "colab_type": "text"
      },
      "source": [
        "## Importing the relevant packages\n"
      ]
    },
    {
      "cell_type": "code",
      "metadata": {
        "id": "Q3gtag61mkGS",
        "colab_type": "code",
        "outputId": "347b1bc8-a919-4f8f-a266-e18388600b7c",
        "colab": {
          "base_uri": "https://localhost:8080/",
          "height": 71
        }
      },
      "source": [
        "import pandas as pd\n",
        "import numpy as np\n",
        "import matplotlib.pyplot as plt\n",
        "import statsmodels.graphics.tsaplots as sgt\n",
        "from statsmodels.tsa.arima_model import ARMA\n",
        "from scipy.stats.distributions import chi2\n",
        "import statsmodels.tsa.stattools as sts \n",
        "import seaborn as sns\n",
        "sns.set()"
      ],
      "execution_count": 0,
      "outputs": [
        {
          "output_type": "stream",
          "text": [
            "/usr/local/lib/python3.6/dist-packages/statsmodels/tools/_testing.py:19: FutureWarning: pandas.util.testing is deprecated. Use the functions in the public API at pandas.testing instead.\n",
            "  import pandas.util.testing as tm\n"
          ],
          "name": "stderr"
        }
      ]
    },
    {
      "cell_type": "markdown",
      "metadata": {
        "id": "VWZy58WUmkGW",
        "colab_type": "text"
      },
      "source": [
        " "
      ]
    },
    {
      "cell_type": "markdown",
      "metadata": {
        "id": "k09LHMdnmkGW",
        "colab_type": "text"
      },
      "source": [
        "## Importing the Data and Pre-processing "
      ]
    },
    {
      "cell_type": "code",
      "metadata": {
        "id": "DxvW9H31mkGX",
        "colab_type": "code",
        "colab": {}
      },
      "source": [
        "raw_csv_data = pd.read_csv(\"Index2018.csv\") \n",
        "df_comp=raw_csv_data.copy()\n",
        "df_comp.date = pd.to_datetime(df_comp.date, dayfirst = True)\n",
        "df_comp.set_index(\"date\", inplace=True)\n",
        "df_comp=df_comp.asfreq('b')\n",
        "df_comp=df_comp.fillna(method='ffill')"
      ],
      "execution_count": 0,
      "outputs": []
    },
    {
      "cell_type": "code",
      "metadata": {
        "id": "QWhr3a7OmkGa",
        "colab_type": "code",
        "colab": {}
      },
      "source": [
        "df_comp['market_value']=df_comp.ftse"
      ],
      "execution_count": 0,
      "outputs": []
    },
    {
      "cell_type": "code",
      "metadata": {
        "id": "XHKfX08MmkGd",
        "colab_type": "code",
        "colab": {}
      },
      "source": [
        "del df_comp['spx']\n",
        "del df_comp['dax']\n",
        "del df_comp['ftse']\n",
        "del df_comp['nikkei']\n",
        "size = int(len(df_comp)*0.8)\n",
        "df_training, df_test = df_comp.iloc[:size], df_comp.iloc[size:]"
      ],
      "execution_count": 0,
      "outputs": []
    },
    {
      "cell_type": "markdown",
      "metadata": {
        "id": "atVzcUdJmkGf",
        "colab_type": "text"
      },
      "source": [
        "## LLR Test"
      ]
    },
    {
      "cell_type": "code",
      "metadata": {
        "id": "3Lkp0bmFmkGg",
        "colab_type": "code",
        "colab": {}
      },
      "source": [
        "def LLR_test(mod_1, mod_2, DF=1):\n",
        "    L1 = mod_1.fit().llf\n",
        "    L2 = mod_2.fit().llf\n",
        "    LR = (2*(L2-L1))\n",
        "    p = chi2.sf(LR, DF).round(3)\n",
        "    return p"
      ],
      "execution_count": 0,
      "outputs": []
    },
    {
      "cell_type": "markdown",
      "metadata": {
        "id": "xwhwXdGlmkGj",
        "colab_type": "text"
      },
      "source": [
        " "
      ]
    },
    {
      "cell_type": "markdown",
      "metadata": {
        "id": "78lVaBSqmkGj",
        "colab_type": "text"
      },
      "source": [
        "## The DF-Test"
      ]
    },
    {
      "cell_type": "code",
      "metadata": {
        "scrolled": true,
        "id": "v2rlMkK-mkGk",
        "colab_type": "code",
        "outputId": "5079a3c3-48c6-47ec-e78c-b994e9427e1a",
        "colab": {
          "base_uri": "https://localhost:8080/",
          "height": 153
        }
      },
      "source": [
        "sts.adfuller(df_training.market_value)"
      ],
      "execution_count": 0,
      "outputs": [
        {
          "output_type": "execute_result",
          "data": {
            "text/plain": [
              "(-1.9041551418836864,\n",
              " 0.33010893277028336,\n",
              " 6,\n",
              " 5014,\n",
              " {'1%': -3.4316548765428174,\n",
              "  '10%': -2.5670769326348926,\n",
              "  '5%': -2.8621166146845334},\n",
              " 54854.15304507557)"
            ]
          },
          "metadata": {
            "tags": []
          },
          "execution_count": 12
        }
      ]
    },
    {
      "cell_type": "markdown",
      "metadata": {
        "id": "9eWW9CNmmkGm",
        "colab_type": "text"
      },
      "source": [
        "## Using Returns"
      ]
    },
    {
      "cell_type": "code",
      "metadata": {
        "id": "pgC4guwwmkGn",
        "colab_type": "code",
        "outputId": "983e5b2f-0325-4695-dc2f-2d9263cdc706",
        "colab": {
          "base_uri": "https://localhost:8080/",
          "height": 275
        }
      },
      "source": [
        "df_training['returns'] = df_training.market_value.pct_change(1).mul(100)\n",
        "df_training = df_training.iloc[1:]\n",
        "\n",
        "sts.adfuller(df_training.returns)"
      ],
      "execution_count": 0,
      "outputs": [
        {
          "output_type": "stream",
          "text": [
            "/usr/local/lib/python3.6/dist-packages/ipykernel_launcher.py:1: SettingWithCopyWarning: \n",
            "A value is trying to be set on a copy of a slice from a DataFrame.\n",
            "Try using .loc[row_indexer,col_indexer] = value instead\n",
            "\n",
            "See the caveats in the documentation: https://pandas.pydata.org/pandas-docs/stable/user_guide/indexing.html#returning-a-view-versus-a-copy\n",
            "  \"\"\"Entry point for launching an IPython kernel.\n"
          ],
          "name": "stderr"
        },
        {
          "output_type": "execute_result",
          "data": {
            "text/plain": [
              "(-12.770265719497182,\n",
              " 7.798058336040345e-24,\n",
              " 32,\n",
              " 4987,\n",
              " {'1%': -3.431661944885779,\n",
              "  '10%': -2.5670785949998973,\n",
              "  '5%': -2.8621197374408225},\n",
              " 15696.7672456975)"
            ]
          },
          "metadata": {
            "tags": []
          },
          "execution_count": 13
        }
      ]
    },
    {
      "cell_type": "code",
      "metadata": {
        "id": "OPAsGKOumkGq",
        "colab_type": "code",
        "colab": {}
      },
      "source": [
        ""
      ],
      "execution_count": 0,
      "outputs": []
    },
    {
      "cell_type": "markdown",
      "metadata": {
        "id": "3o56LlC8mkGs",
        "colab_type": "text"
      },
      "source": [
        "## ACF and PACF for Returns"
      ]
    },
    {
      "cell_type": "code",
      "metadata": {
        "id": "Lw887YzemkGs",
        "colab_type": "code",
        "outputId": "d525759a-752c-41e5-e6a2-b1da63252446",
        "colab": {
          "base_uri": "https://localhost:8080/",
          "height": 284
        }
      },
      "source": [
        "sgt.plot_acf(df_training.returns, lags=40, zero=False, title='ACF FTSE Returns');"
      ],
      "execution_count": 0,
      "outputs": [
        {
          "output_type": "display_data",
          "data": {
            "image/png": "[encoded data removed]",
            "text/plain": [
              "<Figure size 432x288 with 1 Axes>"
            ]
          },
          "metadata": {
            "tags": []
          }
        }
      ]
    },
    {
      "cell_type": "code",
      "metadata": {
        "id": "BJ6i3XU7mkGv",
        "colab_type": "code",
        "outputId": "66fd79af-91b1-4a33-e679-77581e787b66",
        "colab": {
          "base_uri": "https://localhost:8080/",
          "height": 284
        }
      },
      "source": [
        "sgt.plot_pacf(df_training.returns, lags=40, zero=False, method=('ols'), title='ACF FTSE Returns');"
      ],
      "execution_count": 0,
      "outputs": [
        {
          "output_type": "display_data",
          "data": {
            "image/png": "[encoded data removed]",
            "text/plain": [
              "<Figure size 432x288 with 1 Axes>"
            ]
          },
          "metadata": {
            "tags": []
          }
        }
      ]
    },
    {
      "cell_type": "markdown",
      "metadata": {
        "id": "E_AFejEWmkGy",
        "colab_type": "text"
      },
      "source": [
        "## AR(1) for Returns"
      ]
    },
    {
      "cell_type": "code",
      "metadata": {
        "id": "SpZHkQUFmkGy",
        "colab_type": "code",
        "outputId": "d14f309e-6efe-4490-da28-c8e386d215b5",
        "colab": {
          "base_uri": "https://localhost:8080/",
          "height": 309
        }
      },
      "source": [
        "model_return_1 = ARMA(df_training.returns, order=(1,0))\n",
        "\n",
        "model_return_1.fit().summary()"
      ],
      "execution_count": 0,
      "outputs": [
        {
          "output_type": "execute_result",
          "data": {
            "text/html": [
              "<table class=\"simpletable\">\n",
              "<caption>ARMA Model Results</caption>\n",
              "<tr>\n",
              "  <th>Dep. Variable:</th>      <td>returns</td>     <th>  No. Observations:  </th>   <td>5020</td>   \n",
              "</tr>\n",
              "<tr>\n",
              "  <th>Model:</th>            <td>ARMA(1, 0)</td>    <th>  Log Likelihood     </th> <td>-7929.749</td>\n",
              "</tr>\n",
              "<tr>\n",
              "  <th>Method:</th>             <td>css-mle</td>     <th>  S.D. of innovations</th>   <td>1.174</td>  \n",
              "</tr>\n",
              "<tr>\n",
              "  <th>Date:</th>          <td>Fri, 03 Apr 2020</td> <th>  AIC                </th> <td>15865.497</td>\n",
              "</tr>\n",
              "<tr>\n",
              "  <th>Time:</th>              <td>15:23:02</td>     <th>  BIC                </th> <td>15885.061</td>\n",
              "</tr>\n",
              "<tr>\n",
              "  <th>Sample:</th>           <td>01-10-1994</td>    <th>  HQIC               </th> <td>15872.353</td>\n",
              "</tr>\n",
              "<tr>\n",
              "  <th></th>                 <td>- 04-05-2013</td>   <th>                     </th>     <td> </td>    \n",
              "</tr>\n",
              "</table>\n",
              "<table class=\"simpletable\">\n",
              "<tr>\n",
              "        <td></td>           <th>coef</th>     <th>std err</th>      <th>z</th>      <th>P>|z|</th>  <th>[0.025</th>    <th>0.975]</th>  \n",
              "</tr>\n",
              "<tr>\n",
              "  <th>const</th>         <td>    0.0188</td> <td>    0.016</td> <td>    1.159</td> <td> 0.247</td> <td>   -0.013</td> <td>    0.051</td>\n",
              "</tr>\n",
              "<tr>\n",
              "  <th>ar.L1.returns</th> <td>   -0.0230</td> <td>    0.014</td> <td>   -1.631</td> <td> 0.103</td> <td>   -0.051</td> <td>    0.005</td>\n",
              "</tr>\n",
              "</table>\n",
              "<table class=\"simpletable\">\n",
              "<caption>Roots</caption>\n",
              "<tr>\n",
              "    <td></td>   <th>            Real</th>  <th>         Imaginary</th> <th>         Modulus</th>  <th>        Frequency</th>\n",
              "</tr>\n",
              "<tr>\n",
              "  <th>AR.1</th> <td>         -43.4386</td> <td>          +0.0000j</td> <td>          43.4386</td> <td>           0.5000</td>\n",
              "</tr>\n",
              "</table>"
            ],
            "text/plain": [
              "<class 'statsmodels.iolib.summary.Summary'>\n",
              "\"\"\"\n",
              "                              ARMA Model Results                              \n",
              "==============================================================================\n",
              "Dep. Variable:                returns   No. Observations:                 5020\n",
              "Model:                     ARMA(1, 0)   Log Likelihood               -7929.749\n",
              "Method:                       css-mle   S.D. of innovations              1.174\n",
              "Date:                Fri, 03 Apr 2020   AIC                          15865.497\n",
              "Time:                        15:23:02   BIC                          15885.061\n",
              "Sample:                    01-10-1994   HQIC                         15872.353\n",
              "                         - 04-05-2013                                         \n",
              "=================================================================================\n",
              "                    coef    std err          z      P>|z|      [0.025      0.975]\n",
              "---------------------------------------------------------------------------------\n",
              "const             0.0188      0.016      1.159      0.247      -0.013       0.051\n",
              "ar.L1.returns    -0.0230      0.014     -1.631      0.103      -0.051       0.005\n",
              "                                    Roots                                    \n",
              "=============================================================================\n",
              "                  Real          Imaginary           Modulus         Frequency\n",
              "-----------------------------------------------------------------------------\n",
              "AR.1          -43.4386           +0.0000j           43.4386            0.5000\n",
              "-----------------------------------------------------------------------------\n",
              "\"\"\""
            ]
          },
          "metadata": {
            "tags": []
          },
          "execution_count": 19
        }
      ]
    },
    {
      "cell_type": "markdown",
      "metadata": {
        "id": "bfz2mCRdmkG4",
        "colab_type": "text"
      },
      "source": [
        "## Higher-Lag AR Models for Returns"
      ]
    },
    {
      "cell_type": "code",
      "metadata": {
        "id": "3-R7B7hsmkG4",
        "colab_type": "code",
        "outputId": "41519bc6-b9ab-4f78-adbb-19686154eb28",
        "colab": {
          "base_uri": "https://localhost:8080/",
          "height": 391
        }
      },
      "source": [
        "model_return = ARMA(df_training.returns, order=(2,0))\n",
        "\n",
        "print(model_return.fit().summary())"
      ],
      "execution_count": 0,
      "outputs": [
        {
          "output_type": "stream",
          "text": [
            "                              ARMA Model Results                              \n",
            "==============================================================================\n",
            "Dep. Variable:                returns   No. Observations:                 5020\n",
            "Model:                     ARMA(2, 0)   Log Likelihood               -7923.456\n",
            "Method:                       css-mle   S.D. of innovations              1.173\n",
            "Date:                Fri, 03 Apr 2020   AIC                          15854.911\n",
            "Time:                        15:28:05   BIC                          15880.996\n",
            "Sample:                    01-10-1994   HQIC                         15864.052\n",
            "                         - 04-05-2013                                         \n",
            "=================================================================================\n",
            "                    coef    std err          z      P>|z|      [0.025      0.975]\n",
            "---------------------------------------------------------------------------------\n",
            "const             0.0188      0.015      1.220      0.222      -0.011       0.049\n",
            "ar.L1.returns    -0.0242      0.014     -1.716      0.086      -0.052       0.003\n",
            "ar.L2.returns    -0.0500      0.014     -3.550      0.000      -0.078      -0.022\n",
            "                                    Roots                                    \n",
            "=============================================================================\n",
            "                  Real          Imaginary           Modulus         Frequency\n",
            "-----------------------------------------------------------------------------\n",
            "AR.1           -0.2417           -4.4635j            4.4701           -0.2586\n",
            "AR.2           -0.2417           +4.4635j            4.4701            0.2586\n",
            "-----------------------------------------------------------------------------\n"
          ],
          "name": "stdout"
        }
      ]
    },
    {
      "cell_type": "code",
      "metadata": {
        "id": "oPpeCLBwmkG6",
        "colab_type": "code",
        "outputId": "3a198313-70cd-4960-fab6-dd79b912c4ee",
        "colab": {
          "base_uri": "https://localhost:8080/",
          "height": 425
        }
      },
      "source": [
        "model_return = ARMA(df_training.returns, order=(3,0))\n",
        "\n",
        "print(model_return.fit().summary())"
      ],
      "execution_count": 0,
      "outputs": [
        {
          "output_type": "stream",
          "text": [
            "                              ARMA Model Results                              \n",
            "==============================================================================\n",
            "Dep. Variable:                returns   No. Observations:                 5020\n",
            "Model:                     ARMA(3, 0)   Log Likelihood               -7906.738\n",
            "Method:                       css-mle   S.D. of innovations              1.169\n",
            "Date:                Fri, 03 Apr 2020   AIC                          15823.477\n",
            "Time:                        15:28:10   BIC                          15856.083\n",
            "Sample:                    01-10-1994   HQIC                         15834.902\n",
            "                         - 04-05-2013                                         \n",
            "=================================================================================\n",
            "                    coef    std err          z      P>|z|      [0.025      0.975]\n",
            "---------------------------------------------------------------------------------\n",
            "const             0.0189      0.014      1.330      0.184      -0.009       0.047\n",
            "ar.L1.returns    -0.0283      0.014     -2.011      0.044      -0.056      -0.001\n",
            "ar.L2.returns    -0.0521      0.014     -3.705      0.000      -0.080      -0.025\n",
            "ar.L3.returns    -0.0815      0.014     -5.792      0.000      -0.109      -0.054\n",
            "                                    Roots                                    \n",
            "=============================================================================\n",
            "                  Real          Imaginary           Modulus         Frequency\n",
            "-----------------------------------------------------------------------------\n",
            "AR.1            0.9233           -2.0210j            2.2219           -0.1818\n",
            "AR.2            0.9233           +2.0210j            2.2219            0.1818\n",
            "AR.3           -2.4855           -0.0000j            2.4855           -0.5000\n",
            "-----------------------------------------------------------------------------\n"
          ],
          "name": "stdout"
        }
      ]
    },
    {
      "cell_type": "code",
      "metadata": {
        "id": "DOU_Ol3VmkG9",
        "colab_type": "code",
        "outputId": "841fe4e9-0f1d-477c-eca9-f811516ed8ba",
        "colab": {
          "base_uri": "https://localhost:8080/",
          "height": 459
        }
      },
      "source": [
        "model_return = ARMA(df_training.returns, order=(4,0))\n",
        "\n",
        "print(model_return.fit().summary())"
      ],
      "execution_count": 0,
      "outputs": [
        {
          "output_type": "stream",
          "text": [
            "                              ARMA Model Results                              \n",
            "==============================================================================\n",
            "Dep. Variable:                returns   No. Observations:                 5020\n",
            "Model:                     ARMA(4, 0)   Log Likelihood               -7901.330\n",
            "Method:                       css-mle   S.D. of innovations              1.168\n",
            "Date:                Fri, 03 Apr 2020   AIC                          15814.661\n",
            "Time:                        15:28:15   BIC                          15853.788\n",
            "Sample:                    01-10-1994   HQIC                         15828.371\n",
            "                         - 04-05-2013                                         \n",
            "=================================================================================\n",
            "                    coef    std err          z      P>|z|      [0.025      0.975]\n",
            "---------------------------------------------------------------------------------\n",
            "const             0.0188      0.015      1.267      0.205      -0.010       0.048\n",
            "ar.L1.returns    -0.0245      0.014     -1.739      0.082      -0.052       0.003\n",
            "ar.L2.returns    -0.0496      0.014     -3.531      0.000      -0.077      -0.022\n",
            "ar.L3.returns    -0.0802      0.014     -5.701      0.000      -0.108      -0.053\n",
            "ar.L4.returns     0.0464      0.014      3.291      0.001       0.019       0.074\n",
            "                                    Roots                                    \n",
            "=============================================================================\n",
            "                  Real          Imaginary           Modulus         Frequency\n",
            "-----------------------------------------------------------------------------\n",
            "AR.1           -1.8888           -0.0000j            1.8888           -0.5000\n",
            "AR.2            0.3231           -1.9331j            1.9599           -0.2236\n",
            "AR.3            0.3231           +1.9331j            1.9599            0.2236\n",
            "AR.4            2.9701           -0.0000j            2.9701           -0.0000\n",
            "-----------------------------------------------------------------------------\n"
          ],
          "name": "stdout"
        }
      ]
    },
    {
      "cell_type": "code",
      "metadata": {
        "id": "CLQrp0fHmkG_",
        "colab_type": "code",
        "outputId": "b8d1ff87-216f-46cf-dfd1-2ca8e37c797c",
        "colab": {
          "base_uri": "https://localhost:8080/",
          "height": 493
        }
      },
      "source": [
        "model_return = ARMA(df_training.returns, order=(5,0))\n",
        "\n",
        "print(model_return.fit().summary())"
      ],
      "execution_count": 0,
      "outputs": [
        {
          "output_type": "stream",
          "text": [
            "                              ARMA Model Results                              \n",
            "==============================================================================\n",
            "Dep. Variable:                returns   No. Observations:                 5020\n",
            "Model:                     ARMA(5, 0)   Log Likelihood               -7892.390\n",
            "Method:                       css-mle   S.D. of innovations              1.166\n",
            "Date:                Fri, 03 Apr 2020   AIC                          15798.779\n",
            "Time:                        15:28:23   BIC                          15844.428\n",
            "Sample:                    01-10-1994   HQIC                         15814.775\n",
            "                         - 04-05-2013                                         \n",
            "=================================================================================\n",
            "                    coef    std err          z      P>|z|      [0.025      0.975]\n",
            "---------------------------------------------------------------------------------\n",
            "const             0.0189      0.014      1.348      0.178      -0.009       0.046\n",
            "ar.L1.returns    -0.0217      0.014     -1.544      0.123      -0.049       0.006\n",
            "ar.L2.returns    -0.0544      0.014     -3.865      0.000      -0.082      -0.027\n",
            "ar.L3.returns    -0.0831      0.014     -5.914      0.000      -0.111      -0.056\n",
            "ar.L4.returns     0.0449      0.014      3.190      0.001       0.017       0.073\n",
            "ar.L5.returns    -0.0596      0.014     -4.232      0.000      -0.087      -0.032\n",
            "                                    Roots                                    \n",
            "=============================================================================\n",
            "                  Real          Imaginary           Modulus         Frequency\n",
            "-----------------------------------------------------------------------------\n",
            "AR.1           -1.5481           -0.0000j            1.5481           -0.5000\n",
            "AR.2           -0.2860           -1.7252j            1.7487           -0.2761\n",
            "AR.3           -0.2860           +1.7252j            1.7487            0.2761\n",
            "AR.4            1.4366           -1.2157j            1.8819           -0.1118\n",
            "AR.5            1.4366           +1.2157j            1.8819            0.1118\n",
            "-----------------------------------------------------------------------------\n"
          ],
          "name": "stdout"
        }
      ]
    },
    {
      "cell_type": "code",
      "metadata": {
        "id": "pk-aWic9mkHB",
        "colab_type": "code",
        "outputId": "36b1f955-1c86-4c12-c629-d10852a5d8ae",
        "colab": {
          "base_uri": "https://localhost:8080/",
          "height": 527
        }
      },
      "source": [
        "model_return = ARMA(df_training.returns, order=(6,0))\n",
        "\n",
        "print(model_return.fit().summary())"
      ],
      "execution_count": 0,
      "outputs": [
        {
          "output_type": "stream",
          "text": [
            "                              ARMA Model Results                              \n",
            "==============================================================================\n",
            "Dep. Variable:                returns   No. Observations:                 5020\n",
            "Model:                     ARMA(6, 0)   Log Likelihood               -7886.945\n",
            "Method:                       css-mle   S.D. of innovations              1.164\n",
            "Date:                Fri, 03 Apr 2020   AIC                          15789.890\n",
            "Time:                        15:28:26   BIC                          15842.059\n",
            "Sample:                    01-10-1994   HQIC                         15808.170\n",
            "                         - 04-05-2013                                         \n",
            "=================================================================================\n",
            "                    coef    std err          z      P>|z|      [0.025      0.975]\n",
            "---------------------------------------------------------------------------------\n",
            "const             0.0189      0.013      1.414      0.157      -0.007       0.045\n",
            "ar.L1.returns    -0.0245      0.014     -1.740      0.082      -0.052       0.003\n",
            "ar.L2.returns    -0.0523      0.014     -3.716      0.000      -0.080      -0.025\n",
            "ar.L3.returns    -0.0870      0.014     -6.174      0.000      -0.115      -0.059\n",
            "ar.L4.returns     0.0424      0.014      3.009      0.003       0.015       0.070\n",
            "ar.L5.returns    -0.0607      0.014     -4.309      0.000      -0.088      -0.033\n",
            "ar.L6.returns    -0.0466      0.014     -3.302      0.001      -0.074      -0.019\n",
            "                                    Roots                                    \n",
            "=============================================================================\n",
            "                  Real          Imaginary           Modulus         Frequency\n",
            "-----------------------------------------------------------------------------\n",
            "AR.1            1.2869           -0.9022j            1.5716           -0.0973\n",
            "AR.2            1.2869           +0.9022j            1.5716            0.0973\n",
            "AR.3           -0.0727           -1.5282j            1.5299           -0.2576\n",
            "AR.4           -0.0727           +1.5282j            1.5299            0.2576\n",
            "AR.5           -1.8659           -0.4836j            1.9275           -0.4596\n",
            "AR.6           -1.8659           +0.4836j            1.9275            0.4596\n",
            "-----------------------------------------------------------------------------\n"
          ],
          "name": "stdout"
        }
      ]
    },
    {
      "cell_type": "code",
      "metadata": {
        "id": "7L0BHHHlmkHE",
        "colab_type": "code",
        "outputId": "dfd47d2e-c97f-4e23-89d3-c733bd5f806f",
        "colab": {
          "base_uri": "https://localhost:8080/",
          "height": 561
        }
      },
      "source": [
        "model_return = ARMA(df_training.returns, order=(7,0))\n",
        "\n",
        "print(model_return.fit().summary())"
      ],
      "execution_count": 0,
      "outputs": [
        {
          "output_type": "stream",
          "text": [
            "                              ARMA Model Results                              \n",
            "==============================================================================\n",
            "Dep. Variable:                returns   No. Observations:                 5020\n",
            "Model:                     ARMA(7, 0)   Log Likelihood               -7886.647\n",
            "Method:                       css-mle   S.D. of innovations              1.164\n",
            "Date:                Fri, 03 Apr 2020   AIC                          15791.294\n",
            "Time:                        15:28:32   BIC                          15849.985\n",
            "Sample:                    01-10-1994   HQIC                         15811.860\n",
            "                         - 04-05-2013                                         \n",
            "=================================================================================\n",
            "                    coef    std err          z      P>|z|      [0.025      0.975]\n",
            "---------------------------------------------------------------------------------\n",
            "const             0.0189      0.014      1.399      0.162      -0.008       0.045\n",
            "ar.L1.returns    -0.0240      0.014     -1.702      0.089      -0.052       0.004\n",
            "ar.L2.returns    -0.0517      0.014     -3.663      0.000      -0.079      -0.024\n",
            "ar.L3.returns    -0.0874      0.014     -6.202      0.000      -0.115      -0.060\n",
            "ar.L4.returns     0.0433      0.014      3.064      0.002       0.016       0.071\n",
            "ar.L5.returns    -0.0601      0.014     -4.263      0.000      -0.088      -0.032\n",
            "ar.L6.returns    -0.0463      0.014     -3.282      0.001      -0.074      -0.019\n",
            "ar.L7.returns     0.0109      0.014      0.772      0.440      -0.017       0.039\n",
            "                                    Roots                                    \n",
            "=============================================================================\n",
            "                  Real          Imaginary           Modulus         Frequency\n",
            "-----------------------------------------------------------------------------\n",
            "AR.1           -1.6490           -0.5384j            1.7347           -0.4498\n",
            "AR.2           -1.6490           +0.5384j            1.7347            0.4498\n",
            "AR.3           -0.1189           -1.4954j            1.5001           -0.2626\n",
            "AR.4           -0.1189           +1.4954j            1.5001            0.2626\n",
            "AR.5            1.2790           -0.9786j            1.6105           -0.1039\n",
            "AR.6            1.2790           +0.9786j            1.6105            0.1039\n",
            "AR.7            5.2270           -0.0000j            5.2270           -0.0000\n",
            "-----------------------------------------------------------------------------\n"
          ],
          "name": "stdout"
        }
      ]
    },
    {
      "cell_type": "code",
      "metadata": {
        "id": "pMFF0TebmkHF",
        "colab_type": "code",
        "outputId": "3c76cbb0-e34d-4dd4-8081-b4bffab34525",
        "colab": {
          "base_uri": "https://localhost:8080/",
          "height": 595
        }
      },
      "source": [
        "model_return = ARMA(df_training.returns, order=(8,0))\n",
        "\n",
        "print(model_return.fit().summary())"
      ],
      "execution_count": 0,
      "outputs": [
        {
          "output_type": "stream",
          "text": [
            "                              ARMA Model Results                              \n",
            "==============================================================================\n",
            "Dep. Variable:                returns   No. Observations:                 5020\n",
            "Model:                     ARMA(8, 0)   Log Likelihood               -7885.599\n",
            "Method:                       css-mle   S.D. of innovations              1.164\n",
            "Date:                Fri, 03 Apr 2020   AIC                          15791.199\n",
            "Time:                        15:28:42   BIC                          15856.410\n",
            "Sample:                    01-10-1994   HQIC                         15814.050\n",
            "                         - 04-05-2013                                         \n",
            "=================================================================================\n",
            "                    coef    std err          z      P>|z|      [0.025      0.975]\n",
            "---------------------------------------------------------------------------------\n",
            "const             0.0189      0.014      1.370      0.171      -0.008       0.046\n",
            "ar.L1.returns    -0.0242      0.014     -1.718      0.086      -0.052       0.003\n",
            "ar.L2.returns    -0.0507      0.014     -3.593      0.000      -0.078      -0.023\n",
            "ar.L3.returns    -0.0862      0.014     -6.105      0.000      -0.114      -0.059\n",
            "ar.L4.returns     0.0424      0.014      2.999      0.003       0.015       0.070\n",
            "ar.L5.returns    -0.0583      0.014     -4.122      0.000      -0.086      -0.031\n",
            "ar.L6.returns    -0.0452      0.014     -3.203      0.001      -0.073      -0.018\n",
            "ar.L7.returns     0.0114      0.014      0.807      0.420      -0.016       0.039\n",
            "ar.L8.returns     0.0204      0.014      1.448      0.148      -0.007       0.048\n",
            "                                    Roots                                    \n",
            "=============================================================================\n",
            "                  Real          Imaginary           Modulus         Frequency\n",
            "-----------------------------------------------------------------------------\n",
            "AR.1            1.1098           -1.0020j            1.4952           -0.1169\n",
            "AR.2            1.1098           +1.0020j            1.4952            0.1169\n",
            "AR.3            1.9402           -0.0000j            1.9402           -0.0000\n",
            "AR.4           -0.0601           -1.4119j            1.4131           -0.2568\n",
            "AR.5           -0.0601           +1.4119j            1.4131            0.2568\n",
            "AR.6           -1.4935           -1.1306j            1.8731           -0.3969\n",
            "AR.7           -1.4935           +1.1306j            1.8731            0.3969\n",
            "AR.8           -1.6104           -0.0000j            1.6104           -0.5000\n",
            "-----------------------------------------------------------------------------\n"
          ],
          "name": "stdout"
        }
      ]
    },
    {
      "cell_type": "code",
      "metadata": {
        "id": "v_6Z5-OtmkHI",
        "colab_type": "code",
        "colab": {
          "base_uri": "https://localhost:8080/",
          "height": 136
        },
        "outputId": "28bb393c-2430-42c8-8390-3abc1bb3d108"
      },
      "source": [
        "model_1 = ARMA(df_training.returns, order=(1,0))\n",
        "model_2 = ARMA(df_training.returns, order=(2,0))\n",
        "\n",
        "print('Model 1 x 2',LLR_test(model_1, model_2))\n",
        "\n",
        "model_1 = ARMA(df_training.returns, order=(2,0))\n",
        "model_2 = ARMA(df_training.returns, order=(3,0))\n",
        "\n",
        "print('Model 2 x 3',LLR_test(model_1, model_2))\n",
        "\n",
        "model_1 = ARMA(df_training.returns, order=(3,0))\n",
        "model_2 = ARMA(df_training.returns, order=(4,0))\n",
        "\n",
        "print('Model 3 x 4',LLR_test(model_1, model_2))\n",
        "\n",
        "model_1 = ARMA(df_training.returns, order=(4,0))\n",
        "model_2 = ARMA(df_training.returns, order=(5,0))\n",
        "\n",
        "print('Model 4 x 5',LLR_test(model_1, model_2))\n",
        "\n",
        "model_1 = ARMA(df_training.returns, order=(5,0))\n",
        "model_2 = ARMA(df_training.returns, order=(6,0))\n",
        "\n",
        "print('Model 5 x 6',LLR_test(model_1, model_2))\n",
        "\n",
        "model_1 = ARMA(df_training.returns, order=(6,0))\n",
        "model_2 = ARMA(df_training.returns, order=(7,0))\n",
        "\n",
        "print('Model 6 x 7',LLR_test(model_1, model_2))\n",
        "\n",
        "model_1 = ARMA(df_training.returns, order=(7,0))\n",
        "model_2 = ARMA(df_training.returns, order=(8,0))\n",
        "\n",
        "print('Model 7 x 8',LLR_test(model_1, model_2))"
      ],
      "execution_count": 32,
      "outputs": [
        {
          "output_type": "stream",
          "text": [
            "Model 1 x 2 0.0\n",
            "Model 2 x 3 0.0\n",
            "Model 3 x 4 0.001\n",
            "Model 4 x 5 0.0\n",
            "Model 5 x 6 0.001\n",
            "Model 6 x 7 0.44\n",
            "Model 7 x 8 0.148\n"
          ],
          "name": "stdout"
        }
      ]
    },
    {
      "cell_type": "code",
      "metadata": {
        "id": "wYbLbxZamkHK",
        "colab_type": "code",
        "colab": {}
      },
      "source": [
        ""
      ],
      "execution_count": 0,
      "outputs": []
    },
    {
      "cell_type": "markdown",
      "metadata": {
        "id": "IaKRP6k0mkHM",
        "colab_type": "text"
      },
      "source": [
        "## Normalizing Values"
      ]
    },
    {
      "cell_type": "code",
      "metadata": {
        "id": "bnKPzP8VmkHM",
        "colab_type": "code",
        "colab": {
          "base_uri": "https://localhost:8080/",
          "height": 153
        },
        "outputId": "9f851b85-e676-4efc-b57d-65dbeaf1aa16"
      },
      "source": [
        "benchmark = df_training.market_value.iloc[0]\n",
        "df_training['normalizing'] = df_training.market_value.div(benchmark).mul(100)\n",
        "\n",
        "sts.adfuller(df_training.normalizing)"
      ],
      "execution_count": 33,
      "outputs": [
        {
          "output_type": "execute_result",
          "data": {
            "text/plain": [
              "(-1.892871013267235,\n",
              " 0.3354222074330072,\n",
              " 6,\n",
              " 5013,\n",
              " {'1%': -3.431655136974821,\n",
              "  '10%': -2.567076993884522,\n",
              "  '5%': -2.8621167297421373},\n",
              " 19553.90073102193)"
            ]
          },
          "metadata": {
            "tags": []
          },
          "execution_count": 33
        }
      ]
    },
    {
      "cell_type": "code",
      "metadata": {
        "id": "qIm6kOZL0YFX",
        "colab_type": "code",
        "colab": {
          "base_uri": "https://localhost:8080/",
          "height": 153
        },
        "outputId": "76d4532c-a8b5-43aa-bb87-47c6fd9b15b7"
      },
      "source": [
        "benchmark_returns = df_training.returns.iloc[0]\n",
        "df_training['normalizing_return'] = df_training.returns.div(benchmark_returns).mul(100)\n",
        "\n",
        "sts.adfuller(df_training.normalizing_return)"
      ],
      "execution_count": 34,
      "outputs": [
        {
          "output_type": "execute_result",
          "data": {
            "text/plain": [
              "(-12.770265719497242,\n",
              " 7.798058336038161e-24,\n",
              " 32,\n",
              " 4987,\n",
              " {'1%': -3.431661944885779,\n",
              "  '10%': -2.5670785949998973,\n",
              "  '5%': -2.8621197374408225},\n",
              " 80114.49116124898)"
            ]
          },
          "metadata": {
            "tags": []
          },
          "execution_count": 34
        }
      ]
    },
    {
      "cell_type": "markdown",
      "metadata": {
        "id": "QDiKC664mkHV",
        "colab_type": "text"
      },
      "source": [
        "## Normalized Returns"
      ]
    },
    {
      "cell_type": "code",
      "metadata": {
        "id": "7ExH5vOnmkHW",
        "colab_type": "code",
        "colab": {
          "base_uri": "https://localhost:8080/",
          "height": 309
        },
        "outputId": "0efc5d2d-9193-435e-fa9e-8e00c0a994bb"
      },
      "source": [
        "model_returns_1 = ARMA(df_training.returns, order=(1,0))\n",
        "\n",
        "model_returns_1_result = model_returns_1.fit()\n",
        "\n",
        "model_returns_1_result.summary()"
      ],
      "execution_count": 35,
      "outputs": [
        {
          "output_type": "execute_result",
          "data": {
            "text/html": [
              "<table class=\"simpletable\">\n",
              "<caption>ARMA Model Results</caption>\n",
              "<tr>\n",
              "  <th>Dep. Variable:</th>      <td>returns</td>     <th>  No. Observations:  </th>   <td>5020</td>   \n",
              "</tr>\n",
              "<tr>\n",
              "  <th>Model:</th>            <td>ARMA(1, 0)</td>    <th>  Log Likelihood     </th> <td>-7929.749</td>\n",
              "</tr>\n",
              "<tr>\n",
              "  <th>Method:</th>             <td>css-mle</td>     <th>  S.D. of innovations</th>   <td>1.174</td>  \n",
              "</tr>\n",
              "<tr>\n",
              "  <th>Date:</th>          <td>Fri, 03 Apr 2020</td> <th>  AIC                </th> <td>15865.497</td>\n",
              "</tr>\n",
              "<tr>\n",
              "  <th>Time:</th>              <td>16:21:54</td>     <th>  BIC                </th> <td>15885.061</td>\n",
              "</tr>\n",
              "<tr>\n",
              "  <th>Sample:</th>           <td>01-10-1994</td>    <th>  HQIC               </th> <td>15872.353</td>\n",
              "</tr>\n",
              "<tr>\n",
              "  <th></th>                 <td>- 04-05-2013</td>   <th>                     </th>     <td> </td>    \n",
              "</tr>\n",
              "</table>\n",
              "<table class=\"simpletable\">\n",
              "<tr>\n",
              "        <td></td>           <th>coef</th>     <th>std err</th>      <th>z</th>      <th>P>|z|</th>  <th>[0.025</th>    <th>0.975]</th>  \n",
              "</tr>\n",
              "<tr>\n",
              "  <th>const</th>         <td>    0.0188</td> <td>    0.016</td> <td>    1.159</td> <td> 0.247</td> <td>   -0.013</td> <td>    0.051</td>\n",
              "</tr>\n",
              "<tr>\n",
              "  <th>ar.L1.returns</th> <td>   -0.0230</td> <td>    0.014</td> <td>   -1.631</td> <td> 0.103</td> <td>   -0.051</td> <td>    0.005</td>\n",
              "</tr>\n",
              "</table>\n",
              "<table class=\"simpletable\">\n",
              "<caption>Roots</caption>\n",
              "<tr>\n",
              "    <td></td>   <th>            Real</th>  <th>         Imaginary</th> <th>         Modulus</th>  <th>        Frequency</th>\n",
              "</tr>\n",
              "<tr>\n",
              "  <th>AR.1</th> <td>         -43.4386</td> <td>          +0.0000j</td> <td>          43.4386</td> <td>           0.5000</td>\n",
              "</tr>\n",
              "</table>"
            ],
            "text/plain": [
              "<class 'statsmodels.iolib.summary.Summary'>\n",
              "\"\"\"\n",
              "                              ARMA Model Results                              \n",
              "==============================================================================\n",
              "Dep. Variable:                returns   No. Observations:                 5020\n",
              "Model:                     ARMA(1, 0)   Log Likelihood               -7929.749\n",
              "Method:                       css-mle   S.D. of innovations              1.174\n",
              "Date:                Fri, 03 Apr 2020   AIC                          15865.497\n",
              "Time:                        16:21:54   BIC                          15885.061\n",
              "Sample:                    01-10-1994   HQIC                         15872.353\n",
              "                         - 04-05-2013                                         \n",
              "=================================================================================\n",
              "                    coef    std err          z      P>|z|      [0.025      0.975]\n",
              "---------------------------------------------------------------------------------\n",
              "const             0.0188      0.016      1.159      0.247      -0.013       0.051\n",
              "ar.L1.returns    -0.0230      0.014     -1.631      0.103      -0.051       0.005\n",
              "                                    Roots                                    \n",
              "=============================================================================\n",
              "                  Real          Imaginary           Modulus         Frequency\n",
              "-----------------------------------------------------------------------------\n",
              "AR.1          -43.4386           +0.0000j           43.4386            0.5000\n",
              "-----------------------------------------------------------------------------\n",
              "\"\"\""
            ]
          },
          "metadata": {
            "tags": []
          },
          "execution_count": 35
        }
      ]
    },
    {
      "cell_type": "code",
      "metadata": {
        "id": "g3BVaSRCmkHX",
        "colab_type": "code",
        "colab": {
          "base_uri": "https://localhost:8080/",
          "height": 351
        },
        "outputId": "0b8cf4ad-2e2c-4f23-aa5d-18d6bc7a9182"
      },
      "source": [
        "model_returns_2 = ARMA(df_training.returns, order=(2,0))\n",
        "\n",
        "model_returns_2_result = model_returns_2.fit()\n",
        "\n",
        "model_returns_2_result.summary()"
      ],
      "execution_count": 36,
      "outputs": [
        {
          "output_type": "execute_result",
          "data": {
            "text/html": [
              "<table class=\"simpletable\">\n",
              "<caption>ARMA Model Results</caption>\n",
              "<tr>\n",
              "  <th>Dep. Variable:</th>      <td>returns</td>     <th>  No. Observations:  </th>   <td>5020</td>   \n",
              "</tr>\n",
              "<tr>\n",
              "  <th>Model:</th>            <td>ARMA(2, 0)</td>    <th>  Log Likelihood     </th> <td>-7923.456</td>\n",
              "</tr>\n",
              "<tr>\n",
              "  <th>Method:</th>             <td>css-mle</td>     <th>  S.D. of innovations</th>   <td>1.173</td>  \n",
              "</tr>\n",
              "<tr>\n",
              "  <th>Date:</th>          <td>Fri, 03 Apr 2020</td> <th>  AIC                </th> <td>15854.911</td>\n",
              "</tr>\n",
              "<tr>\n",
              "  <th>Time:</th>              <td>16:21:57</td>     <th>  BIC                </th> <td>15880.996</td>\n",
              "</tr>\n",
              "<tr>\n",
              "  <th>Sample:</th>           <td>01-10-1994</td>    <th>  HQIC               </th> <td>15864.052</td>\n",
              "</tr>\n",
              "<tr>\n",
              "  <th></th>                 <td>- 04-05-2013</td>   <th>                     </th>     <td> </td>    \n",
              "</tr>\n",
              "</table>\n",
              "<table class=\"simpletable\">\n",
              "<tr>\n",
              "        <td></td>           <th>coef</th>     <th>std err</th>      <th>z</th>      <th>P>|z|</th>  <th>[0.025</th>    <th>0.975]</th>  \n",
              "</tr>\n",
              "<tr>\n",
              "  <th>const</th>         <td>    0.0188</td> <td>    0.015</td> <td>    1.220</td> <td> 0.222</td> <td>   -0.011</td> <td>    0.049</td>\n",
              "</tr>\n",
              "<tr>\n",
              "  <th>ar.L1.returns</th> <td>   -0.0242</td> <td>    0.014</td> <td>   -1.716</td> <td> 0.086</td> <td>   -0.052</td> <td>    0.003</td>\n",
              "</tr>\n",
              "<tr>\n",
              "  <th>ar.L2.returns</th> <td>   -0.0500</td> <td>    0.014</td> <td>   -3.550</td> <td> 0.000</td> <td>   -0.078</td> <td>   -0.022</td>\n",
              "</tr>\n",
              "</table>\n",
              "<table class=\"simpletable\">\n",
              "<caption>Roots</caption>\n",
              "<tr>\n",
              "    <td></td>   <th>            Real</th>  <th>         Imaginary</th> <th>         Modulus</th>  <th>        Frequency</th>\n",
              "</tr>\n",
              "<tr>\n",
              "  <th>AR.1</th> <td>          -0.2417</td> <td>          -4.4635j</td> <td>           4.4701</td> <td>          -0.2586</td>\n",
              "</tr>\n",
              "<tr>\n",
              "  <th>AR.2</th> <td>          -0.2417</td> <td>          +4.4635j</td> <td>           4.4701</td> <td>           0.2586</td>\n",
              "</tr>\n",
              "</table>"
            ],
            "text/plain": [
              "<class 'statsmodels.iolib.summary.Summary'>\n",
              "\"\"\"\n",
              "                              ARMA Model Results                              \n",
              "==============================================================================\n",
              "Dep. Variable:                returns   No. Observations:                 5020\n",
              "Model:                     ARMA(2, 0)   Log Likelihood               -7923.456\n",
              "Method:                       css-mle   S.D. of innovations              1.173\n",
              "Date:                Fri, 03 Apr 2020   AIC                          15854.911\n",
              "Time:                        16:21:57   BIC                          15880.996\n",
              "Sample:                    01-10-1994   HQIC                         15864.052\n",
              "                         - 04-05-2013                                         \n",
              "=================================================================================\n",
              "                    coef    std err          z      P>|z|      [0.025      0.975]\n",
              "---------------------------------------------------------------------------------\n",
              "const             0.0188      0.015      1.220      0.222      -0.011       0.049\n",
              "ar.L1.returns    -0.0242      0.014     -1.716      0.086      -0.052       0.003\n",
              "ar.L2.returns    -0.0500      0.014     -3.550      0.000      -0.078      -0.022\n",
              "                                    Roots                                    \n",
              "=============================================================================\n",
              "                  Real          Imaginary           Modulus         Frequency\n",
              "-----------------------------------------------------------------------------\n",
              "AR.1           -0.2417           -4.4635j            4.4701           -0.2586\n",
              "AR.2           -0.2417           +4.4635j            4.4701            0.2586\n",
              "-----------------------------------------------------------------------------\n",
              "\"\"\""
            ]
          },
          "metadata": {
            "tags": []
          },
          "execution_count": 36
        }
      ]
    },
    {
      "cell_type": "code",
      "metadata": {
        "id": "j3yGGVNpmkHZ",
        "colab_type": "code",
        "colab": {
          "base_uri": "https://localhost:8080/",
          "height": 561
        },
        "outputId": "82e3b7ca-0a39-4576-f36a-0b52cef30fff"
      },
      "source": [
        "model_returns_7 = ARMA(df_training.returns, order=(7,0))\n",
        "\n",
        "model_returns_7_result = model_returns_7.fit()\n",
        "\n",
        "model_returns_7_result.summary()"
      ],
      "execution_count": 37,
      "outputs": [
        {
          "output_type": "execute_result",
          "data": {
            "text/html": [
              "<table class=\"simpletable\">\n",
              "<caption>ARMA Model Results</caption>\n",
              "<tr>\n",
              "  <th>Dep. Variable:</th>      <td>returns</td>     <th>  No. Observations:  </th>   <td>5020</td>   \n",
              "</tr>\n",
              "<tr>\n",
              "  <th>Model:</th>            <td>ARMA(7, 0)</td>    <th>  Log Likelihood     </th> <td>-7886.647</td>\n",
              "</tr>\n",
              "<tr>\n",
              "  <th>Method:</th>             <td>css-mle</td>     <th>  S.D. of innovations</th>   <td>1.164</td>  \n",
              "</tr>\n",
              "<tr>\n",
              "  <th>Date:</th>          <td>Fri, 03 Apr 2020</td> <th>  AIC                </th> <td>15791.294</td>\n",
              "</tr>\n",
              "<tr>\n",
              "  <th>Time:</th>              <td>16:22:53</td>     <th>  BIC                </th> <td>15849.985</td>\n",
              "</tr>\n",
              "<tr>\n",
              "  <th>Sample:</th>           <td>01-10-1994</td>    <th>  HQIC               </th> <td>15811.860</td>\n",
              "</tr>\n",
              "<tr>\n",
              "  <th></th>                 <td>- 04-05-2013</td>   <th>                     </th>     <td> </td>    \n",
              "</tr>\n",
              "</table>\n",
              "<table class=\"simpletable\">\n",
              "<tr>\n",
              "        <td></td>           <th>coef</th>     <th>std err</th>      <th>z</th>      <th>P>|z|</th>  <th>[0.025</th>    <th>0.975]</th>  \n",
              "</tr>\n",
              "<tr>\n",
              "  <th>const</th>         <td>    0.0189</td> <td>    0.014</td> <td>    1.399</td> <td> 0.162</td> <td>   -0.008</td> <td>    0.045</td>\n",
              "</tr>\n",
              "<tr>\n",
              "  <th>ar.L1.returns</th> <td>   -0.0240</td> <td>    0.014</td> <td>   -1.702</td> <td> 0.089</td> <td>   -0.052</td> <td>    0.004</td>\n",
              "</tr>\n",
              "<tr>\n",
              "  <th>ar.L2.returns</th> <td>   -0.0517</td> <td>    0.014</td> <td>   -3.663</td> <td> 0.000</td> <td>   -0.079</td> <td>   -0.024</td>\n",
              "</tr>\n",
              "<tr>\n",
              "  <th>ar.L3.returns</th> <td>   -0.0874</td> <td>    0.014</td> <td>   -6.202</td> <td> 0.000</td> <td>   -0.115</td> <td>   -0.060</td>\n",
              "</tr>\n",
              "<tr>\n",
              "  <th>ar.L4.returns</th> <td>    0.0433</td> <td>    0.014</td> <td>    3.064</td> <td> 0.002</td> <td>    0.016</td> <td>    0.071</td>\n",
              "</tr>\n",
              "<tr>\n",
              "  <th>ar.L5.returns</th> <td>   -0.0601</td> <td>    0.014</td> <td>   -4.263</td> <td> 0.000</td> <td>   -0.088</td> <td>   -0.032</td>\n",
              "</tr>\n",
              "<tr>\n",
              "  <th>ar.L6.returns</th> <td>   -0.0463</td> <td>    0.014</td> <td>   -3.282</td> <td> 0.001</td> <td>   -0.074</td> <td>   -0.019</td>\n",
              "</tr>\n",
              "<tr>\n",
              "  <th>ar.L7.returns</th> <td>    0.0109</td> <td>    0.014</td> <td>    0.772</td> <td> 0.440</td> <td>   -0.017</td> <td>    0.039</td>\n",
              "</tr>\n",
              "</table>\n",
              "<table class=\"simpletable\">\n",
              "<caption>Roots</caption>\n",
              "<tr>\n",
              "    <td></td>   <th>            Real</th>  <th>         Imaginary</th> <th>         Modulus</th>  <th>        Frequency</th>\n",
              "</tr>\n",
              "<tr>\n",
              "  <th>AR.1</th> <td>          -1.6490</td> <td>          -0.5384j</td> <td>           1.7347</td> <td>          -0.4498</td>\n",
              "</tr>\n",
              "<tr>\n",
              "  <th>AR.2</th> <td>          -1.6490</td> <td>          +0.5384j</td> <td>           1.7347</td> <td>           0.4498</td>\n",
              "</tr>\n",
              "<tr>\n",
              "  <th>AR.3</th> <td>          -0.1189</td> <td>          -1.4954j</td> <td>           1.5001</td> <td>          -0.2626</td>\n",
              "</tr>\n",
              "<tr>\n",
              "  <th>AR.4</th> <td>          -0.1189</td> <td>          +1.4954j</td> <td>           1.5001</td> <td>           0.2626</td>\n",
              "</tr>\n",
              "<tr>\n",
              "  <th>AR.5</th> <td>           1.2790</td> <td>          -0.9786j</td> <td>           1.6105</td> <td>          -0.1039</td>\n",
              "</tr>\n",
              "<tr>\n",
              "  <th>AR.6</th> <td>           1.2790</td> <td>          +0.9786j</td> <td>           1.6105</td> <td>           0.1039</td>\n",
              "</tr>\n",
              "<tr>\n",
              "  <th>AR.7</th> <td>           5.2270</td> <td>          -0.0000j</td> <td>           5.2270</td> <td>          -0.0000</td>\n",
              "</tr>\n",
              "</table>"
            ],
            "text/plain": [
              "<class 'statsmodels.iolib.summary.Summary'>\n",
              "\"\"\"\n",
              "                              ARMA Model Results                              \n",
              "==============================================================================\n",
              "Dep. Variable:                returns   No. Observations:                 5020\n",
              "Model:                     ARMA(7, 0)   Log Likelihood               -7886.647\n",
              "Method:                       css-mle   S.D. of innovations              1.164\n",
              "Date:                Fri, 03 Apr 2020   AIC                          15791.294\n",
              "Time:                        16:22:53   BIC                          15849.985\n",
              "Sample:                    01-10-1994   HQIC                         15811.860\n",
              "                         - 04-05-2013                                         \n",
              "=================================================================================\n",
              "                    coef    std err          z      P>|z|      [0.025      0.975]\n",
              "---------------------------------------------------------------------------------\n",
              "const             0.0189      0.014      1.399      0.162      -0.008       0.045\n",
              "ar.L1.returns    -0.0240      0.014     -1.702      0.089      -0.052       0.004\n",
              "ar.L2.returns    -0.0517      0.014     -3.663      0.000      -0.079      -0.024\n",
              "ar.L3.returns    -0.0874      0.014     -6.202      0.000      -0.115      -0.060\n",
              "ar.L4.returns     0.0433      0.014      3.064      0.002       0.016       0.071\n",
              "ar.L5.returns    -0.0601      0.014     -4.263      0.000      -0.088      -0.032\n",
              "ar.L6.returns    -0.0463      0.014     -3.282      0.001      -0.074      -0.019\n",
              "ar.L7.returns     0.0109      0.014      0.772      0.440      -0.017       0.039\n",
              "                                    Roots                                    \n",
              "=============================================================================\n",
              "                  Real          Imaginary           Modulus         Frequency\n",
              "-----------------------------------------------------------------------------\n",
              "AR.1           -1.6490           -0.5384j            1.7347           -0.4498\n",
              "AR.2           -1.6490           +0.5384j            1.7347            0.4498\n",
              "AR.3           -0.1189           -1.4954j            1.5001           -0.2626\n",
              "AR.4           -0.1189           +1.4954j            1.5001            0.2626\n",
              "AR.5            1.2790           -0.9786j            1.6105           -0.1039\n",
              "AR.6            1.2790           +0.9786j            1.6105            0.1039\n",
              "AR.7            5.2270           -0.0000j            5.2270           -0.0000\n",
              "-----------------------------------------------------------------------------\n",
              "\"\"\""
            ]
          },
          "metadata": {
            "tags": []
          },
          "execution_count": 37
        }
      ]
    },
    {
      "cell_type": "markdown",
      "metadata": {
        "id": "u5l_ed-LmkHb",
        "colab_type": "text"
      },
      "source": [
        "## Analysing the Residuals"
      ]
    },
    {
      "cell_type": "code",
      "metadata": {
        "id": "3rugmYZimkHb",
        "colab_type": "code",
        "colab": {
          "base_uri": "https://localhost:8080/",
          "height": 51
        },
        "outputId": "4d026eaa-c3d8-4a0e-9d41-cecd9cb9ebe7"
      },
      "source": [
        "model_returns_6 = ARMA(df_training.returns, order=(6,0))\n",
        "result_returns_6 = model_returns_6.fit()\n",
        "\n",
        "df_training['result_returns'] = result_returns_6.resid\n",
        "\n",
        "print('Mean', df_training.result_returns.mean())\n",
        "print('Var', df_training.result_returns.var())"
      ],
      "execution_count": 38,
      "outputs": [
        {
          "output_type": "stream",
          "text": [
            "Mean -5.372412302788232e-05\n",
            "Var 1.3559802110696517\n"
          ],
          "name": "stdout"
        }
      ]
    },
    {
      "cell_type": "code",
      "metadata": {
        "id": "E2cXzZdUmkHd",
        "colab_type": "code",
        "colab": {
          "base_uri": "https://localhost:8080/",
          "height": 153
        },
        "outputId": "a790b647-f517-4af3-dd87-0f214f47c040"
      },
      "source": [
        "sts.adfuller(df_training.result_returns)"
      ],
      "execution_count": 39,
      "outputs": [
        {
          "output_type": "execute_result",
          "data": {
            "text/plain": [
              "(-70.78380171410286,\n",
              " 0.0,\n",
              " 0,\n",
              " 5019,\n",
              " {'1%': -3.4316535759402753,\n",
              "  '10%': -2.567076626752987,\n",
              "  '5%': -2.8621160400844468},\n",
              " 15692.570834395005)"
            ]
          },
          "metadata": {
            "tags": []
          },
          "execution_count": 39
        }
      ]
    },
    {
      "cell_type": "code",
      "metadata": {
        "id": "UNEoDo9wmkHf",
        "colab_type": "code",
        "colab": {
          "base_uri": "https://localhost:8080/",
          "height": 284
        },
        "outputId": "0259c9a1-cdbc-4f69-c4dc-e5602a91bc0c"
      },
      "source": [
        "sgt.plot_acf(df_training.result_returns, zero=False, lags=40, title='ACF of Residual for returns');"
      ],
      "execution_count": 43,
      "outputs": [
        {
          "output_type": "display_data",
          "data": {
            "image/png": "[encoded data removed]",
            "text/plain": [
              "<Figure size 432x288 with 1 Axes>"
            ]
          },
          "metadata": {
            "tags": []
          }
        }
      ]
    },
    {
      "cell_type": "code",
      "metadata": {
        "id": "jNK9yxWKmkHh",
        "colab_type": "code",
        "colab": {
          "base_uri": "https://localhost:8080/",
          "height": 278
        },
        "outputId": "2333ff7f-ea70-442d-acfb-1cf140b0f7c6"
      },
      "source": [
        "df_training.result_returns.plot(figsize=(20,5), title='Residual for Returns');"
      ],
      "execution_count": 45,
      "outputs": [
        {
          "output_type": "display_data",
          "data": {
            "image/png": "[encoded data removed]",
            "text/plain": [
              "<Figure size 1440x360 with 1 Axes>"
            ]
          },
          "metadata": {
            "tags": []
          }
        }
      ]
    },
    {
      "cell_type": "code",
      "metadata": {
        "id": "DJ7sb9c9mkHk",
        "colab_type": "code",
        "colab": {}
      },
      "source": [
        ""
      ],
      "execution_count": 0,
      "outputs": []
    },
    {
      "cell_type": "code",
      "metadata": {
        "id": "wDmjDllCmkHm",
        "colab_type": "code",
        "colab": {}
      },
      "source": [
        ""
      ],
      "execution_count": 0,
      "outputs": []
    }
  ]
}