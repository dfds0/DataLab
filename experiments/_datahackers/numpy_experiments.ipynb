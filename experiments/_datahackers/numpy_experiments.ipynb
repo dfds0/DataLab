{
 "cells": [
  {
   "cell_type": "code",
   "execution_count": 5,
   "metadata": {},
   "outputs": [],
   "source": [
    "import numpy as np"
   ]
  },
  {
   "cell_type": "code",
   "execution_count": 6,
   "metadata": {},
   "outputs": [
    {
     "name": "stdout",
     "output_type": "stream",
     "text": [
      "[0 2 4 6 8]\n"
     ]
    }
   ],
   "source": [
    "array_1 = np.array([0, 2,4,6,8])\n",
    "print(array_1)"
   ]
  },
  {
   "cell_type": "code",
   "execution_count": 7,
   "metadata": {},
   "outputs": [
    {
     "name": "stdout",
     "output_type": "stream",
     "text": [
      "[[1 3 5 7 9]\n",
      " [0 2 4 6 8]]\n"
     ]
    }
   ],
   "source": [
    "array_2 = np.array([[1,3,5,7,9],[0,2,4,6,8]])\n",
    "print(array_2)"
   ]
  },
  {
   "cell_type": "code",
   "execution_count": 8,
   "metadata": {},
   "outputs": [
    {
     "name": "stdout",
     "output_type": "stream",
     "text": [
      "[list([0]) list([1, 2]) list([3, 4, 5]) list([6, 7, 8, 9])]\n"
     ]
    },
    {
     "name": "stderr",
     "output_type": "stream",
     "text": [
      "<ipython-input-8-a20ec94e807e>:1: VisibleDeprecationWarning: Creating an ndarray from ragged nested sequences (which is a list-or-tuple of lists-or-tuples-or ndarrays with different lengths or shapes) is deprecated. If you meant to do this, you must specify 'dtype=object' when creating the ndarray\n",
      "  array_n = np.array([[0], [1,2], [3,4,5],[6,7,8,9]])\n"
     ]
    }
   ],
   "source": [
    "array_n = np.array([[0], [1,2], [3,4,5],[6,7,8,9]])\n",
    "print(array_n)"
   ]
  },
  {
   "cell_type": "code",
   "execution_count": 9,
   "metadata": {},
   "outputs": [
    {
     "name": "stdout",
     "output_type": "stream",
     "text": [
      "[0 1 2 3 4 5 6 7 8 9]\n"
     ]
    }
   ],
   "source": [
    "range_a = np.arange(10)\n",
    "print(range_a)"
   ]
  },
  {
   "cell_type": "code",
   "execution_count": 10,
   "metadata": {},
   "outputs": [
    {
     "name": "stdout",
     "output_type": "stream",
     "text": [
      "[ 8  9 10 11 12 13 14 15 16 17 18 19 20 21 22]\n"
     ]
    }
   ],
   "source": [
    "range_b = np.arange(8, 23)\n",
    "print(range_b)"
   ]
  },
  {
   "cell_type": "code",
   "execution_count": 15,
   "metadata": {},
   "outputs": [
    {
     "name": "stdout",
     "output_type": "stream",
     "text": [
      "[1.   1.02 1.04 1.06 1.08 1.1  1.12 1.14 1.16 1.18 1.2  1.22 1.24 1.26\n",
      " 1.28 1.3  1.32 1.34 1.36 1.38 1.4  1.42 1.44 1.46 1.48 1.5  1.52 1.54\n",
      " 1.56 1.58 1.6  1.62 1.64 1.66 1.68 1.7  1.72 1.74 1.76 1.78 1.8  1.82\n",
      " 1.84 1.86 1.88 1.9  1.92 1.94 1.96 1.98]\n"
     ]
    }
   ],
   "source": [
    "range_c = np.arange(1, 2, .02)\n",
    "print(range_c)"
   ]
  },
  {
   "cell_type": "code",
   "execution_count": 12,
   "metadata": {},
   "outputs": [
    {
     "name": "stdout",
     "output_type": "stream",
     "text": [
      "[[0. 0. 0.]\n",
      " [0. 0. 0.]\n",
      " [0. 0. 0.]]\n"
     ]
    }
   ],
   "source": [
    "range_zero = np.zeros((3,3))\n",
    "print(range_zero)"
   ]
  },
  {
   "cell_type": "code",
   "execution_count": 13,
   "metadata": {},
   "outputs": [
    {
     "name": "stdout",
     "output_type": "stream",
     "text": [
      "[[1. 1.]\n",
      " [1. 1.]]\n"
     ]
    }
   ],
   "source": [
    "range_one = np.ones((2, 2))\n",
    "print(range_one)"
   ]
  },
  {
   "cell_type": "code",
   "execution_count": 17,
   "metadata": {},
   "outputs": [
    {
     "name": "stdout",
     "output_type": "stream",
     "text": [
      "[[0.09879488 0.90050093 0.72642869 0.97814022]\n",
      " [0.85587105 0.56936544 0.82891272 0.51457453]\n",
      " [0.41658817 0.52402307 0.94718157 0.91726878]\n",
      " [0.63306028 0.1893097  0.79848665 0.39684218]]\n"
     ]
    }
   ],
   "source": [
    "range_random = np.random.random((4,4))\n",
    "print(range_random)"
   ]
  },
  {
   "cell_type": "code",
   "execution_count": 18,
   "metadata": {},
   "outputs": [
    {
     "name": "stdout",
     "output_type": "stream",
     "text": [
      "Dimensões:\n",
      "1\n",
      "1\n",
      "1\n",
      "2\n",
      "2\n",
      "2\n"
     ]
    }
   ],
   "source": [
    "print(\"Dimensões:\")\n",
    "print(range_a.ndim)\n",
    "print(range_b.ndim)\n",
    "print(range_c.ndim)\n",
    "print(range_zero.ndim)\n",
    "print(range_one.ndim)\n",
    "print(range_random.ndim)"
   ]
  },
  {
   "cell_type": "code",
   "execution_count": 20,
   "metadata": {},
   "outputs": [
    {
     "name": "stdout",
     "output_type": "stream",
     "text": [
      "Forma:\n",
      "(10,)\n",
      "(15,)\n",
      "(50,)\n",
      "(3, 3)\n",
      "(2, 2)\n",
      "(4, 4)\n"
     ]
    }
   ],
   "source": [
    "print(\"Forma:\")\n",
    "print(range_a.shape)\n",
    "print(range_b.shape)\n",
    "print(range_c.shape)\n",
    "print(range_zero.shape)\n",
    "print(range_one.shape)\n",
    "print(range_random.shape)"
   ]
  },
  {
   "cell_type": "code",
   "execution_count": 21,
   "metadata": {},
   "outputs": [
    {
     "name": "stdout",
     "output_type": "stream",
     "text": [
      "Tipo:\n",
      "int32\n",
      "int32\n",
      "float64\n",
      "float64\n",
      "float64\n",
      "float64\n"
     ]
    }
   ],
   "source": [
    "print(\"Tipo:\")\n",
    "print(range_a.dtype)\n",
    "print(range_b.dtype)\n",
    "print(range_c.dtype)\n",
    "print(range_zero.dtype)\n",
    "print(range_one.dtype)\n",
    "print(range_random.dtype)"
   ]
  },
  {
   "cell_type": "code",
   "execution_count": 22,
   "metadata": {},
   "outputs": [
    {
     "name": "stdout",
     "output_type": "stream",
     "text": [
      "[1 2 3 4 5 6 7 8 9]\n",
      "4\n",
      "[4 5 6 7]\n"
     ]
    }
   ],
   "source": [
    "array = np.array([1, 2, 3, 4, 5, 6, 7, 8, 9])\n",
    "print(array)\n",
    "print(array[3])\n",
    "print(array[3:7])"
   ]
  },
  {
   "cell_type": "code",
   "execution_count": 40,
   "metadata": {},
   "outputs": [
    {
     "name": "stdout",
     "output_type": "stream",
     "text": [
      "2\n",
      "20\n",
      "22\n",
      "200\n",
      "--\n",
      "[100 200 300]\n",
      "[[10 20 30]\n",
      " [11 22 33]]\n",
      "--\n",
      "[11 22 33]\n",
      "[  3  30  33 300]\n"
     ]
    }
   ],
   "source": [
    "array_n = np.array([[1, 2, 3], [10, 20, 30], [11, 22, 33], [100, 200, 300]])\n",
    "\n",
    "print(array_n[0,1])\n",
    "print(array_n[1,1])\n",
    "print(array_n[2,1])\n",
    "print(array_n[3,1])\n",
    "print('--')\n",
    "print(array_n[3])\n",
    "print(array_n[1:3])\n",
    "print('--')\n",
    "print(array_n[2, :])\n",
    "print(array_n[:,2])"
   ]
  },
  {
   "cell_type": "code",
   "execution_count": 50,
   "metadata": {},
   "outputs": [
    {
     "name": "stdout",
     "output_type": "stream",
     "text": [
      "[[  1   2   3]\n",
      " [ 10  20  30]\n",
      " [ 11  22  33]\n",
      " [100 200 300]]\n",
      "-\n",
      "[[  1   2   3  10]\n",
      " [ 20  30  11  22]\n",
      " [ 33 100 200 300]]\n",
      "-\n",
      "[[  1   2   3  10  20  30]\n",
      " [ 11  22  33 100 200 300]]\n",
      "-\n",
      "[[  1   2   3  10  20  30  11  22  33 100 200 300]]\n"
     ]
    }
   ],
   "source": [
    "array_n = np.array([[1, 2, 3], [10, 20, 30], [11, 22, 33], [100, 200, 300]])\n",
    "print(array_n)\n",
    "print(\"-\")\n",
    "print(array_n.reshape(3,4))\n",
    "print(\"-\")\n",
    "print(array_n.reshape(2,6))\n",
    "print(\"-\")\n",
    "print(array_n.reshape(1,12))"
   ]
  },
  {
   "cell_type": "code",
   "execution_count": 54,
   "metadata": {},
   "outputs": [
    {
     "name": "stdout",
     "output_type": "stream",
     "text": [
      "[1 1 1 1 1]\n",
      "[9 7 5 3 1]\n"
     ]
    }
   ],
   "source": [
    "array_a = np.array([9,7,5,3,1])\n",
    "array_b = np.array([8,6,4,2,0])\n",
    "\n",
    "array_c = array_a - array_b\n",
    "print(array_c)\n",
    "\n",
    "array_d = array_b + array_c\n",
    "print(array_d)\n"
   ]
  },
  {
   "cell_type": "code",
   "execution_count": null,
   "metadata": {},
   "outputs": [],
   "source": []
  }
 ],
 "metadata": {
  "hide_input": false,
  "kernelspec": {
   "display_name": "Python 3.9.0 64-bit",
   "language": "python",
   "name": "python39064bit3123c2ef3be44e98a2bcb3fba23cd6f7"
  },
  "language_info": {
   "codemirror_mode": {
    "name": "ipython",
    "version": 3
   },
   "file_extension": ".py",
   "mimetype": "text/x-python",
   "name": "python",
   "nbconvert_exporter": "python",
   "pygments_lexer": "ipython3",
   "version": "3.9.0a5"
  },
  "varInspector": {
   "cols": {
    "lenName": 16,
    "lenType": 16,
    "lenVar": 40
   },
   "kernels_config": {
    "python": {
     "delete_cmd_postfix": "",
     "delete_cmd_prefix": "del ",
     "library": "var_list.py",
     "varRefreshCmd": "print(var_dic_list())"
    },
    "r": {
     "delete_cmd_postfix": ") ",
     "delete_cmd_prefix": "rm(",
     "library": "var_list.r",
     "varRefreshCmd": "cat(var_dic_list()) "
    }
   },
   "types_to_exclude": [
    "module",
    "function",
    "builtin_function_or_method",
    "instance",
    "_Feature"
   ],
   "window_display": false
  }
 },
 "nbformat": 4,
 "nbformat_minor": 2
}
