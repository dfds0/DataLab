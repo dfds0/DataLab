{
 "cells": [
  {
   "cell_type": "markdown",
   "metadata": {},
   "source": [
    "## Imports"
   ]
  },
  {
   "cell_type": "code",
   "execution_count": 7,
   "metadata": {},
   "outputs": [],
   "source": [
    "import numpy as np\n",
    "import matplotlib.pyplot as plt\n",
    "import tensorflow.compat.v1 as tf"
   ]
  },
  {
   "cell_type": "markdown",
   "metadata": {},
   "source": [
    "## Data generation"
   ]
  },
  {
   "cell_type": "code",
   "execution_count": 4,
   "metadata": {},
   "outputs": [],
   "source": [
    "observations = 1000\n",
    "\n",
    "xs = np.random.uniform(low=-10, high=10, size=(observations, 1))\n",
    "zs = np.random.uniform(-10, 10, (observations, 1))\n",
    "\n",
    "generated_inputs = np.column_stack((xs, zs))\n",
    "\n",
    "noise = np.random.uniform(-1, 1, (observations, 1))\n",
    "generated_targets = 2*xs -3*zs + 5 + noise \n",
    "\n",
    "np.savez('_tf_intro', inputs=generated_inputs, targets=generated_targets)"
   ]
  },
  {
   "cell_type": "markdown",
   "metadata": {},
   "source": [
    "## Inputs & Outputs"
   ]
  },
  {
   "cell_type": "code",
   "execution_count": 12,
   "metadata": {},
   "outputs": [],
   "source": [
    "input_size = 2\n",
    "output_size = 1\n",
    "\n",
    "inputs = tf.placeholder(tf.float32, [None, input_size])\n",
    "targets = tf.placeholder(tf.float32, [None, output_size])\n",
    "\n",
    "weights = tf.Variable(tf.random_uniform([input_size, output_size], minval=-0.1, maxval=0.1)) \n",
    "biases = tf.Variable(tf.random_uniform([output_size], maxval = 0.1))\n",
    "\n",
    "outputs = tf.matmul(inputs, weights) + biases"
   ]
  },
  {
   "cell_type": "markdown",
   "metadata": {},
   "source": [
    "## Mean, Optimize & Execution"
   ]
  },
  {
   "cell_type": "code",
   "execution_count": 13,
   "metadata": {},
   "outputs": [],
   "source": [
    "mean_loss = tf.losses.mean_squared_error(labels=targets, predictions=outputs) / 2.\n",
    "\n",
    "optimize = tf.train.GradientDescentOptimizer(learning_rate = 0.05).minimize(mean_loss)"
   ]
  },
  {
   "cell_type": "code",
   "execution_count": 15,
   "metadata": {},
   "outputs": [
    {
     "name": "stderr",
     "output_type": "stream",
     "text": [
      "c:\\python38\\lib\\site-packages\\tensorflow\\python\\client\\session.py:1751: UserWarning: An interactive session is already active. This can cause out-of-memory errors in some cases. You must explicitly call `InteractiveSession.close()` to release resources held by the other session(s).\n",
      "  warnings.warn('An interactive session is already active. This can '\n"
     ]
    }
   ],
   "source": [
    "sess = tf.InteractiveSession()\n",
    "initializer = tf.global_variables_initializer()\n",
    "sess.run(initializer)"
   ]
  },
  {
   "cell_type": "markdown",
   "metadata": {},
   "source": [
    "## Data"
   ]
  },
  {
   "cell_type": "code",
   "execution_count": 16,
   "metadata": {},
   "outputs": [],
   "source": [
    "training_data = np.load('_tf_intro.npz')"
   ]
  },
  {
   "cell_type": "code",
   "execution_count": 17,
   "metadata": {},
   "outputs": [
    {
     "name": "stdout",
     "output_type": "stream",
     "text": [
      "251.25931\n",
      "146.41861\n",
      "86.86294\n",
      "52.753883\n",
      "33.06068\n",
      "21.574574\n",
      "14.779229\n",
      "10.676471\n",
      "8.128301\n",
      "6.485373\n",
      "5.376291\n",
      "4.5879335\n",
      "3.9973917\n",
      "3.5332406\n",
      "3.1534922\n",
      "2.833038\n",
      "2.5564942\n",
      "2.3141162\n",
      "2.0994668\n",
      "1.9080706\n",
      "1.7366577\n",
      "1.582707\n",
      "1.4441898\n",
      "1.3194182\n",
      "1.2069448\n",
      "1.1055132\n",
      "1.0140117\n",
      "0.93145376\n",
      "0.85695654\n",
      "0.7897278\n",
      "0.7290559\n",
      "0.67430013\n",
      "0.6248821\n",
      "0.5802809\n",
      "0.5400273\n",
      "0.503697\n",
      "0.47090808\n",
      "0.44131446\n",
      "0.4146047\n",
      "0.39049816\n",
      "0.36874157\n",
      "0.34910497\n",
      "0.33138207\n",
      "0.31538665\n",
      "0.30095005\n",
      "0.28792062\n",
      "0.27616078\n",
      "0.26554722\n",
      "0.25596786\n",
      "0.24732226\n",
      "0.23951922\n",
      "0.2324765\n",
      "0.22612043\n",
      "0.22038367\n",
      "0.21520616\n",
      "0.21053323\n",
      "0.20631553\n",
      "0.20250915\n",
      "0.19907354\n",
      "0.19597282\n",
      "0.19317426\n",
      "0.19064853\n",
      "0.18836899\n",
      "0.18631151\n",
      "0.18445459\n",
      "0.18277866\n",
      "0.18126602\n",
      "0.17990085\n",
      "0.17866871\n",
      "0.1775566\n",
      "0.17655298\n",
      "0.17564708\n",
      "0.17482948\n",
      "0.17409162\n",
      "0.17342563\n",
      "0.17282458\n",
      "0.17228206\n",
      "0.17179249\n",
      "0.17135058\n",
      "0.17095174\n",
      "0.1705918\n",
      "0.17026691\n",
      "0.1699737\n",
      "0.16970901\n",
      "0.16947013\n",
      "0.16925457\n",
      "0.16906\n",
      "0.16888441\n",
      "0.16872592\n",
      "0.16858292\n",
      "0.1684538\n",
      "0.16833729\n",
      "0.1682321\n",
      "0.16813715\n",
      "0.16805151\n",
      "0.16797419\n",
      "0.16790442\n",
      "0.16784143\n",
      "0.16778456\n",
      "0.1677333\n"
     ]
    }
   ],
   "source": [
    "for e in range(100):\n",
    "    _, curr_loss = sess.run([optimize, mean_loss], \n",
    "                            feed_dict= {inputs:training_data['inputs'], targets:training_data['targets']})\n",
    "    print(curr_loss)"
   ]
  },
  {
   "cell_type": "markdown",
   "metadata": {},
   "source": [
    "## Plot data"
   ]
  },
  {
   "cell_type": "code",
   "execution_count": 20,
   "metadata": {},
   "outputs": [
    {
     "data": {
      "image/png": "[encoded data removed]",
      "text/plain": [
       "<Figure size 432x288 with 1 Axes>"
      ]
     },
     "metadata": {
      "needs_background": "light"
     },
     "output_type": "display_data"
    }
   ],
   "source": [
    "_output = sess.run([outputs], feed_dict={inputs: training_data['inputs']})\n",
    "\n",
    "plt.plot(np.squeeze(_output), np.squeeze(training_data['targets']))\n",
    "plt.xlabel('outputs')\n",
    "plt.ylabel('targets')\n",
    "plt.show()"
   ]
  },
  {
   "cell_type": "code",
   "execution_count": null,
   "metadata": {},
   "outputs": [],
   "source": []
  }
 ],
 "metadata": {
  "hide_input": false,
  "kernelspec": {
   "display_name": "Python 3",
   "language": "python",
   "name": "python3"
  },
  "language_info": {
   "codemirror_mode": {
    "name": "ipython",
    "version": 3
   },
   "file_extension": ".py",
   "mimetype": "text/x-python",
   "name": "python",
   "nbconvert_exporter": "python",
   "pygments_lexer": "ipython3",
   "version": "3.8.2"
  },
  "varInspector": {
   "cols": {
    "lenName": 16,
    "lenType": 16,
    "lenVar": 40
   },
   "kernels_config": {
    "python": {
     "delete_cmd_postfix": "",
     "delete_cmd_prefix": "del ",
     "library": "var_list.py",
     "varRefreshCmd": "print(var_dic_list())"
    },
    "r": {
     "delete_cmd_postfix": ") ",
     "delete_cmd_prefix": "rm(",
     "library": "var_list.r",
     "varRefreshCmd": "cat(var_dic_list()) "
    }
   },
   "types_to_exclude": [
    "module",
    "function",
    "builtin_function_or_method",
    "instance",
    "_Feature"
   ],
   "window_display": false
  }
 },
 "nbformat": 4,
 "nbformat_minor": 4
}
